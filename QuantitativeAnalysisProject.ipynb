{
  "nbformat": 4,
  "nbformat_minor": 0,
  "metadata": {
    "colab": {
      "name": "QuantitativeAnalysisProject.ipynb",
      "provenance": [],
      "collapsed_sections": [],
      "authorship_tag": "ABX9TyOJ/eligPC7cm94kngkoJus",
      "include_colab_link": true
    },
    "kernelspec": {
      "name": "python3",
      "display_name": "Python 3"
    },
    "language_info": {
      "name": "python"
    }
  },
  "cells": [
    {
      "cell_type": "markdown",
      "metadata": {
        "id": "view-in-github",
        "colab_type": "text"
      },
      "source": [
        "<a href=\"https://colab.research.google.com/github/lgelbman/QuantitativeAnalysisProject/blob/main/QuantitativeAnalysisProject.ipynb\" target=\"_parent\"><img src=\"https://colab.research.google.com/assets/colab-badge.svg\" alt=\"Open In Colab\"/></a>"
      ]
    },
    {
      "cell_type": "markdown",
      "metadata": {
        "id": "mDXhCW7HrTEs"
      },
      "source": [
        "##Distributions:\n",
        "\n",
        "###Claim Severity Distribution:\n",
        "\n",
        "Gamma distribution with $\\mu = 4$, $ \\sigma = 6$.\n",
        "\n",
        "$\\mu = \\frac{\\alpha}{\\lambda} = 4$.\n",
        "\n",
        "$\\sigma = 6 \\rightarrow \\sigma^2 = (\\frac{\\alpha}{\\lambda^2}) = 36$.\n",
        "\n",
        "$\\longrightarrow \\alpha = \\frac{4}{9} , \\lambda = \\frac{1}{9}$.\n",
        "\n",
        "###Claim Frequency Distribution:\n",
        "\n",
        "Poisson distribution with ${\\mu} = {\\lambda} = 5$.\n",
        "\n"
      ]
    },
    {
      "cell_type": "markdown",
      "metadata": {
        "id": "ZsA6f8Np65Oz"
      },
      "source": [
        "##Default Parameters:"
      ]
    },
    {
      "cell_type": "code",
      "metadata": {
        "id": "1RNxH_AV20Xr"
      },
      "source": [
        "#gamma\n",
        "alpha = 4/9\n",
        "beta = 1/9   #(named beta because lambda is a keyword in python)\n",
        "\n",
        "#poisson\n",
        "mu = 5"
      ],
      "execution_count": 12,
      "outputs": []
    },
    {
      "cell_type": "markdown",
      "metadata": {
        "id": "R6bBCfI3MakR"
      },
      "source": [
        "##These sliders can be used to set the R.V. parameters (they are only visible on Colab not on github): \n",
        "\n",
        "0 means default parameters (alpha = 4/9, lambda = 1/9 for the gamma and 5 for the poisson).\n",
        "\n",
        "Please run this code cell (or run all) after modifying the parameters."
      ]
    },
    {
      "cell_type": "code",
      "metadata": {
        "id": "C9LW1xkmM5ON"
      },
      "source": [
        "gamma_alpha_slider = 0 #@param {type:\"slider\", min:0, max:100, step:0.1}\n",
        "gamma_lambda_slider = 0 #@param {type:\"slider\", min:0, max:100, step:0.1}\n",
        "poisson_lambda_slider = 0 #@param {type:\"slider\", min:0, max:100, step:0.1}\n",
        "\n",
        "if gamma_alpha_slider != 0:\n",
        "  alpha = gamma_alpha_slider\n",
        "\n",
        "if gamma_lambda_slider != 0:\n",
        "  beta = gamma_lambda_slider\n",
        "\n",
        "if poisson_lambda_slider != 0:\n",
        "  mu = poisson_lambda_slider"
      ],
      "execution_count": 13,
      "outputs": []
    },
    {
      "cell_type": "code",
      "metadata": {
        "id": "8nYFCGQfQBu3"
      },
      "source": [
        "#parameters for Panjer's Formula\n",
        "a = 0\n",
        "b = beta"
      ],
      "execution_count": 14,
      "outputs": []
    },
    {
      "cell_type": "markdown",
      "metadata": {
        "id": "RK6QibqFrzud"
      },
      "source": [
        "##Import Statements:"
      ]
    },
    {
      "cell_type": "code",
      "metadata": {
        "id": "_hBhlIC6r4Qi"
      },
      "source": [
        "import math\n",
        "from scipy.stats import gamma\n",
        "import numpy as np\n",
        "import pandas as pd"
      ],
      "execution_count": 15,
      "outputs": []
    },
    {
      "cell_type": "markdown",
      "metadata": {
        "id": "a54D1USzr9OF"
      },
      "source": [
        "##Discretized Gamma:\n",
        "\n",
        "This function takes a natural number n, and returns the probability that a gamma(alpha, lambda) RV is in the range (n - .5, n + .5)."
      ]
    },
    {
      "cell_type": "code",
      "metadata": {
        "id": "AxKLWS2TsE7N"
      },
      "source": [
        "def discretized_gamma(x):\n",
        "  # the scale parameter in this library is the reciprocal of beta or lambda. Source: https://stackoverflow.com/a/42151088\n",
        "  gamma_rv = gamma(a=alpha, scale=(1/beta))\n",
        "  return gamma_rv.cdf(x + .5) - gamma_rv.cdf(x - .5)"
      ],
      "execution_count": 16,
      "outputs": []
    },
    {
      "cell_type": "markdown",
      "metadata": {
        "id": "qMKdF3r0te5E"
      },
      "source": [
        "##Panjer's Formula:\n",
        "\n",
        "$P_N (z)=e^{(\\lambda(z-1))} =e^{(5(z-1))}$\n",
        "\n",
        "$g_x=\\frac{1}{(1-af_0 )}   \\sum_{y=1}^{x} (a+\\frac{b}{x} y)  f_y g_{(x-y)}$\n",
        "\n",
        "$g_0 = P_N (f_0 ) = e^{(\\lambda(f_0-1))} $\n",
        "\n",
        "$poisson \\rightarrow a = 0, b = {\\mu} = {\\lambda} = 5$\n",
        "\n",
        "$g_x=\\sum_{y=1}^{x} \\frac{5}{x} y f_y g_{(x-y)}$\n",
        "\n",
        "$g_0 = P_N (f_0 ) = e^{(5(f_0-1))}$\n",
        "\n",
        "\n",
        "\n"
      ]
    },
    {
      "cell_type": "markdown",
      "metadata": {
        "id": "ys80WOU26-tJ"
      },
      "source": [
        "##Panjer's Recursive Formula First Attempt:\n",
        "\n",
        "This version cannot efficiently calculate more than the first few probabilities. ( $O(n!)$ running time)"
      ]
    },
    {
      "cell_type": "code",
      "metadata": {
        "id": "Zu_wqBXRw6Yy"
      },
      "source": [
        "def get_compound_probability(x):\n",
        "\n",
        "  #base case: total = 0.\n",
        "  if x == 0:\n",
        "    return get_probability_that_total_is_zero()\n",
        "  \n",
        "  #recursive case:\n",
        "  sum = 0\n",
        "  for y in range(1, x + 1):\n",
        "    sum += ((b/x) * y) * discretized_gamma(y) * get_compound_probability(x - y)\n",
        "  return sum\n",
        "\n",
        "\n",
        "#This \"helper function\" handles the base case for both versions:\n",
        "def get_probability_that_total_is_zero():\n",
        "\n",
        "  def evaluate_poisson_pgf(z):\n",
        "    return math.exp(mu * (z - 1))\n",
        "\n",
        "  f_0 = discretized_gamma(0)\n",
        "  result = evaluate_poisson_pgf(f_0)\n",
        "  return result"
      ],
      "execution_count": 17,
      "outputs": []
    },
    {
      "cell_type": "markdown",
      "metadata": {
        "id": "69nnZD2yw40i"
      },
      "source": [
        "##Panjer's Recursive Formula Memoized Version:\n",
        "\n",
        "This version uses a dictionary to store previously computed probabilities so they are not recomputed."
      ]
    },
    {
      "cell_type": "code",
      "metadata": {
        "id": "qNUD_MFgrYP4"
      },
      "source": [
        "probabilities = {}\n",
        "\n",
        "def memoized_compound_probability(x):\n",
        "  if x in probabilities:\n",
        "    return probabilities[x] \n",
        "  elif x == 0:\n",
        "    p = get_probability_that_total_is_zero()\n",
        "    probabilities[x] = p\n",
        "    return p\n",
        "  else:\n",
        "    sum = 0\n",
        "    for y in range(1, x + 1):\n",
        "      sum += ((b/x) * y) * discretized_gamma(y) * memoized_compound_probability(x - y)\n",
        "    probabilities[x] = sum\n",
        "    return sum"
      ],
      "execution_count": 18,
      "outputs": []
    },
    {
      "cell_type": "markdown",
      "metadata": {
        "id": "rxtn5BuSURSY"
      },
      "source": [
        "##Calculating the first 40 probabilities:"
      ]
    },
    {
      "cell_type": "code",
      "metadata": {
        "colab": {
          "base_uri": "https://localhost:8080/"
        },
        "id": "Ik-G-5YUUQ3R",
        "outputId": "ca4e33dc-1859-4911-88de-6cef108296e0"
      },
      "source": [
        "probabilities = {}\n",
        "\n",
        "for i in range(40):\n",
        "  probability = memoized_compound_probability(i)\n",
        "  probabilities[i] = probability\n",
        "  print(\"probability of {} = {}\".format(i, probability))\n"
      ],
      "execution_count": 19,
      "outputs": [
        {
          "output_type": "stream",
          "name": "stdout",
          "text": [
            "probability of 0 = 0.03130569408169159\n",
            "probability of 1 = 0.0006159429765646497\n",
            "probability of 2 = 0.0003686404901306715\n",
            "probability of 3 = 0.00026461969841395304\n",
            "probability of 4 = 0.0002031463124096832\n",
            "probability of 5 = 0.0001616301978332766\n",
            "probability of 6 = 0.0001314983732497827\n",
            "probability of 7 = 0.00010862849822556142\n",
            "probability of 8 = 9.073753617295115e-05\n",
            "probability of 9 = 7.643529550028071e-05\n",
            "probability of 10 = 6.481561597053002e-05\n",
            "probability of 11 = 5.525690685109715e-05\n",
            "probability of 12 = 4.7315615594892976e-05\n",
            "probability of 13 = 4.066519310678742e-05\n",
            "probability of 14 = 3.505910356049508e-05\n",
            "probability of 15 = 3.0307349333624615e-05\n",
            "probability of 16 = 2.6260988907147623e-05\n",
            "probability of 17 = 2.2801588327344982e-05\n",
            "probability of 18 = 1.9833830963459766e-05\n",
            "probability of 19 = 1.7280213788005423e-05\n",
            "probability of 20 = 1.5077160502472405e-05\n",
            "probability of 21 = 1.3172120285168385e-05\n",
            "probability of 22 = 1.1521366998252343e-05\n",
            "probability of 23 = 1.0088305758861485e-05\n",
            "probability of 24 = 8.842153317342269e-06\n",
            "probability of 25 = 7.756898082907918e-06\n",
            "probability of 26 = 6.810472254284669e-06\n",
            "probability of 27 = 5.984086838474569e-06\n",
            "probability of 28 = 5.261693176799266e-06\n",
            "probability of 29 = 4.629543731396836e-06\n",
            "probability of 30 = 4.0758314798588604e-06\n",
            "probability of 31 = 3.590392090906144e-06\n",
            "probability of 32 = 3.1644566284569325e-06\n",
            "probability of 33 = 2.7904452098232123e-06\n",
            "probability of 34 = 2.4617940721287807e-06\n",
            "probability of 35 = 2.1728100523476005e-06\n",
            "probability of 36 = 1.9185476837505684e-06\n",
            "probability of 37 = 1.6947050436870568e-06\n",
            "probability of 38 = 1.4975352190966226e-06\n",
            "probability of 39 = 1.3237708343801372e-06\n"
          ]
        }
      ]
    }
  ]
}