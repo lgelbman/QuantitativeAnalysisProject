{
  "nbformat": 4,
  "nbformat_minor": 0,
  "metadata": {
    "colab": {
      "name": "QuantitativeAnalysisProject.ipynb",
      "provenance": [],
      "collapsed_sections": []
    },
    "kernelspec": {
      "name": "python3",
      "display_name": "Python 3"
    },
    "language_info": {
      "name": "python"
    }
  },
  "cells": [
    {
      "cell_type": "markdown",
      "metadata": {
        "id": "mDXhCW7HrTEs"
      },
      "source": [
        "##Distributions:\n",
        "\n",
        "###Claim Severity Distribution:\n",
        "\n",
        "Gamma distribution with $\\mu = 4$, $ \\sigma^2 = 6$.\n",
        "\n",
        "$\\mu = \\frac{\\alpha}{\\lambda} = 4$.\n",
        "\n",
        "$\\sigma^2 = \\frac{\\alpha}{\\lambda^2} = 6$.\n",
        "\n",
        "$\\longrightarrow \\alpha = \\frac{4}{9} , \\lambda = \\frac{1}{9}$.\n",
        "\n",
        "###Claim Frequency Distribution:\n",
        "\n",
        "Poisson distribution with ${\\mu} = {\\lambda} = 5$.\n",
        "\n"
      ]
    },
    {
      "cell_type": "markdown",
      "metadata": {
        "id": "ZsA6f8Np65Oz"
      },
      "source": [
        "##Default Parameters:"
      ]
    },
    {
      "cell_type": "code",
      "metadata": {
        "id": "1RNxH_AV20Xr"
      },
      "source": [
        "#gamma\n",
        "alpha = 4/9\n",
        "beta = 1/9   #(named beta because lambda is a keyword in python)\n",
        "\n",
        "#poisson\n",
        "mu = 5"
      ],
      "execution_count": null,
      "outputs": []
    },
    {
      "cell_type": "markdown",
      "metadata": {
        "id": "R6bBCfI3MakR"
      },
      "source": [
        "##These sliders can be used to set the random variable parameters: \n",
        "\n",
        "0 means default parameters (alpha = 4/9, lambda = 1/9 for the gamma and 5 for the poisson).\n",
        "\n",
        "Please run this code cell (or run all) after modifying the parameters."
      ]
    },
    {
      "cell_type": "code",
      "metadata": {
        "id": "C9LW1xkmM5ON"
      },
      "source": [
        "gamma_alpha_slider = 0 #@param {type:\"slider\", min:0, max:100, step:0.1}\n",
        "gamma_lambda_slider = 0 #@param {type:\"slider\", min:0, max:100, step:0.1}\n",
        "poisson_lambda_slider = 0 #@param {type:\"slider\", min:0, max:100, step:0.1}\n",
        "\n",
        "if gamma_alpha_slider != 0:\n",
        "  alpha = gamma_alpha_slider\n",
        "\n",
        "if gamma_lambda_slider != 0:\n",
        "  beta = gamma_lambda_slider\n",
        "\n",
        "if poisson_lambda_slider != 0:\n",
        "  mu = poisson_lambda_slider"
      ],
      "execution_count": null,
      "outputs": []
    },
    {
      "cell_type": "code",
      "metadata": {
        "id": "8nYFCGQfQBu3"
      },
      "source": [
        "#parameters for Panjer's Formula\n",
        "a = 0\n",
        "b = beta"
      ],
      "execution_count": null,
      "outputs": []
    },
    {
      "cell_type": "markdown",
      "metadata": {
        "id": "RK6QibqFrzud"
      },
      "source": [
        "##Import Statements:"
      ]
    },
    {
      "cell_type": "code",
      "metadata": {
        "id": "_hBhlIC6r4Qi"
      },
      "source": [
        "import math\n",
        "from scipy.stats import gamma\n",
        "import numpy as np\n",
        "import pandas as pd"
      ],
      "execution_count": null,
      "outputs": []
    },
    {
      "cell_type": "markdown",
      "metadata": {
        "id": "a54D1USzr9OF"
      },
      "source": [
        "##Discretized Gamma:\n",
        "\n",
        "This function takes a natural number n, and returns the probability that a gamma(alpha, lambda) RV is in the range (n - .5, n + .5)."
      ]
    },
    {
      "cell_type": "code",
      "metadata": {
        "id": "AxKLWS2TsE7N"
      },
      "source": [
        "def discretized_gamma(x):\n",
        "  # the scale parameter in this library is the reciprocal of beta or lambda. Source: https://stackoverflow.com/a/42151088\n",
        "  gamma_rv = gamma(a=alpha, scale=(1/beta))\n",
        "  return gamma_rv.cdf(x + .5) - gamma_rv.cdf(x - .5)"
      ],
      "execution_count": null,
      "outputs": []
    },
    {
      "cell_type": "markdown",
      "metadata": {
        "id": "qMKdF3r0te5E"
      },
      "source": [
        "##Panjer's Formula:\n",
        "\n",
        "$P_N (z)=e^{(λ(z-1))} =e^{(5(z-1))}$\n",
        "\n",
        "$g_x=\\frac{1}{(1-af_0 )} ∑_{(y=1)}^x(a+\\frac{b}{x} y)  f_y g_{(x-y)}$\n",
        "\n",
        "$g_0 = P_N (f_0 ) = e^{(λ(f_0-1))} $\n",
        "\n",
        "$poisson => a = 0, b = {\\mu} = {\\lambda} = 5$\n",
        "\n",
        "$∑_{(y=1)}^x\\frac{5}{x} y f_y g_{(x-y)}$\n",
        "\n",
        "$g_0 = P_N (f_0 ) = e^{(5(f_0-1))}$\n",
        "\n",
        "\n",
        "\n"
      ]
    },
    {
      "cell_type": "markdown",
      "metadata": {
        "id": "ys80WOU26-tJ"
      },
      "source": [
        "##Panjer's Recursive Formula First Attempt:\n",
        "\n",
        "This version cannot efficiently calculate more than the first few probabilities. ( $O(n!)$ running time)"
      ]
    },
    {
      "cell_type": "code",
      "metadata": {
        "id": "Zu_wqBXRw6Yy"
      },
      "source": [
        "def get_compound_probability(x):\n",
        "\n",
        "  #base case: total = 0.\n",
        "  if x == 0:\n",
        "    return get_probability_that_total_is_zero()\n",
        "  \n",
        "  #recursive case:\n",
        "  sum = 0\n",
        "  for y in range(1, x + 1):\n",
        "    sum += ((b/x) * y) * discretized_gamma(y) * get_compound_probability(x - y)\n",
        "  return sum\n",
        "\n",
        "\n",
        "#This \"helper function\" handles the base case for both versions:\n",
        "def get_probability_that_total_is_zero():\n",
        "\n",
        "  def evaluate_poisson_pgf(z):\n",
        "    return math.exp(beta * (z - 1))\n",
        "\n",
        "  f_0 = discretized_gamma(0)\n",
        "  result = evaluate_poisson_pgf(f_0)\n",
        "  return result"
      ],
      "execution_count": null,
      "outputs": []
    },
    {
      "cell_type": "markdown",
      "metadata": {
        "id": "69nnZD2yw40i"
      },
      "source": [
        "##Panjer's Recursive Formula Memoized Version:\n",
        "\n",
        "This version uses a dictionary to store previously computed probabilities so they are not recomputed."
      ]
    },
    {
      "cell_type": "code",
      "metadata": {
        "id": "qNUD_MFgrYP4"
      },
      "source": [
        "probabilities = {}\n",
        "\n",
        "def memoized_compound_probability(x):\n",
        "  if x in probabilities:\n",
        "    return probabilities[x] \n",
        "  elif x == 0:\n",
        "    p = get_probability_that_total_is_zero()\n",
        "    probabilities[x] = p\n",
        "    return p\n",
        "  else:\n",
        "    sum = 0\n",
        "    for y in range(1, x + 1):\n",
        "      sum += ((b/x) * y) * discretized_gamma(y) * memoized_compound_probability(x - y)\n",
        "    probabilities[x] = sum\n",
        "    return sum"
      ],
      "execution_count": null,
      "outputs": []
    },
    {
      "cell_type": "markdown",
      "metadata": {
        "id": "b9pauf8KS3m4"
      },
      "source": [
        "##Test"
      ]
    },
    {
      "cell_type": "code",
      "metadata": {
        "id": "53LCdl3rS7I0"
      },
      "source": [
        "#Tests that the sum of probabilities of all outcomes approachs one.\n",
        "sum = 0\n",
        "for i in range(100):\n",
        "  sum += memoized_compound_probability(i)\n",
        "np.testing.assert_almost_equal(sum, 1, decimal=5)"
      ],
      "execution_count": null,
      "outputs": []
    },
    {
      "cell_type": "markdown",
      "metadata": {
        "id": "rxtn5BuSURSY"
      },
      "source": [
        "##Calculating the first 40 probabilities:"
      ]
    },
    {
      "cell_type": "code",
      "metadata": {
        "colab": {
          "base_uri": "https://localhost:8080/"
        },
        "id": "Ik-G-5YUUQ3R",
        "outputId": "e278ad64-09d9-468b-c994-b3af036451ee"
      },
      "source": [
        "file_path = 'panjers_formula_results.csv'\n",
        "\n",
        "probabilities = {}\n",
        "\n",
        "for i in range(40):\n",
        "  probability = memoized_compound_probability(i)\n",
        "  probabilities[i] = probability\n",
        "  print(\"probability of {} = {}\".format(i, probability))\n"
      ],
      "execution_count": null,
      "outputs": [
        {
          "output_type": "stream",
          "text": [
            "probability of 0 = 0.9259113493469866\n",
            "probability of 1 = 0.018217407704284247\n",
            "probability of 2 = 0.010903077655781558\n",
            "probability of 3 = 0.007826511732431029\n",
            "probability of 4 = 0.006008347099645286\n",
            "probability of 5 = 0.004780447741567624\n",
            "probability of 6 = 0.003889255286751366\n",
            "probability of 7 = 0.003212845532416686\n",
            "probability of 8 = 0.002683694357169751\n",
            "probability of 9 = 0.0022606848265277753\n",
            "probability of 10 = 0.0019170159359963546\n",
            "probability of 11 = 0.0016343032372874813\n",
            "probability of 12 = 0.0013994280199100255\n",
            "probability of 13 = 0.0012027321203199718\n",
            "probability of 14 = 0.0010369238835556808\n",
            "probability of 15 = 0.000896383854112924\n",
            "probability of 16 = 0.0007767068703461063\n",
            "probability of 17 = 0.0006743900761418831\n",
            "probability of 18 = 0.0005866143437732323\n",
            "probability of 19 = 0.0005110874086900919\n",
            "probability of 20 = 0.0004459289095695074\n",
            "probability of 21 = 0.00038958457957122077\n",
            "probability of 22 = 0.0003407611546907839\n",
            "probability of 23 = 0.0002983762881422651\n",
            "probability of 24 = 0.0002615195206287191\n",
            "probability of 25 = 0.00022942152159126435\n",
            "probability of 26 = 0.00020142960377111672\n",
            "probability of 27 = 0.0001769880554241377\n",
            "probability of 28 = 0.00015562221417186965\n",
            "probability of 29 = 0.00013692547662456762\n",
            "probability of 30 = 0.0001205486329540956\n",
            "probability of 31 = 0.00010619105830718014\n",
            "probability of 32 = 9.359339866922549e-05\n",
            "probability of 33 = 8.253146800591989e-05\n",
            "probability of 34 = 7.281113350150022e-05\n",
            "probability of 35 = 6.426401159463304e-05\n",
            "probability of 36 = 5.674383292740708e-05\n",
            "probability of 37 = 5.012336189227331e-05\n",
            "probability of 38 = 4.4291778096026975e-05\n",
            "probability of 39 = 3.915244416203243e-05\n"
          ],
          "name": "stdout"
        }
      ]
    }
  ]
}